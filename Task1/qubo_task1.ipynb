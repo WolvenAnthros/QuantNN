{
 "cells": [
  {
   "cell_type": "code",
   "execution_count": 1,
   "id": "d858e892-b927-4bb9-96c1-30be0e6063ab",
   "metadata": {},
   "outputs": [],
   "source": [
    "import pandas as pd\n",
    "import numpy as np\n",
    "import matplotlib.pyplot as plt\n",
    "import math\n",
    "\n",
    "def get_matrix_B(K,n):\n",
    "    \"\"\"\n",
    "    K - number of bits\n",
    "    n - number of assets\n",
    "    \"\"\"\n",
    "    b = np.array([2**k for k in range(K)])\n",
    "    return np.kron(np.eye(n),b)\n",
    "\n",
    "def get_matrix_Q_w(n, p_ri, p_i, Cov_M):\n",
    "    \"\"\"\n",
    "    n - number of assets\n",
    "    p_ri - penalty for risk violation\n",
    "    p_i - penalty for initial cost\n",
    "    Cov_M - covariance matrix of returns of assets of size (n,n)\n",
    "    \"\"\"\n",
    "    Q_w = np.zeros((n,n))\n",
    "\n",
    "    Q_w += p_ri*Cov_M\n",
    "    Q_w += p_i*np.ones((n,n))\n",
    "    \n",
    "    return Q_w\n",
    "\n",
    "def get_matrix_Q_x(K, n, p_re, p_i, I, r_fin):\n",
    "    \"\"\"\n",
    "    K - number of bits\n",
    "    n - number of assets\n",
    "    p_re - penalty for resulted return > 0 \n",
    "    p_i - penalty for initial cost > 0\n",
    "    I - initial money\n",
    "    r_fin - final return vector\n",
    "    \"\"\"\n",
    "    Q_x = np.zeros((K*n,K*n))\n",
    "    b = np.array([2**k for k in range(K)])\n",
    "    b_diag_re = np.diag(np.kron(np.ones(n),b)*np.kron(r_fin,np.ones(K)))\n",
    "    b_diag_i = np.diag(np.kron(np.ones(n),b))\n",
    "\n",
    "    Q_x -= p_re*b_diag_re\n",
    "    Q_x -= p_i*(2*I*b_diag_i)\n",
    "    \n",
    "    return Q_x"
   ]
  },
  {
   "cell_type": "code",
   "execution_count": 8,
   "id": "e1702599-9dbb-4ced-a7ad-5a4ceca2d029",
   "metadata": {},
   "outputs": [
    {
     "name": "stdout",
     "output_type": "stream",
     "text": [
      "Numer of binary variables: N = n*K = 3400\n"
     ]
    }
   ],
   "source": [
    "\"\"\" Read data \"\"\" \n",
    "data_df = pd.read_csv('task-1-stocks.csv')   # column Sj - stock №j, row k - price at period k\n",
    "data_np = data_df.to_numpy()\n",
    "\n",
    "\"\"\" Construct covariance matrix and finial return vector \"\"\" \n",
    "return_matrix = (data_np[1:,:] - data_np[:-1,:])/data_np[:-1,:]\n",
    "return_matrix = return_matrix.T # we want that row is returns of asset j\n",
    "Cov_M = np.cov(return_matrix, bias=False) # if bias=False (default), then normalization is by (N-1)\n",
    "r_fin = (data_np[-1,:] - data_np[0,:])/data_np[0,:] # finial return vector\n",
    "\n",
    "\n",
    "n = data_np.shape[1] # number of assets \n",
    "I = 10**6 # initial money\n",
    "min_price = np.min(data_np[0]) # min price of the stock at day 0\n",
    "w_max = math.floor(I/min_price) # max possible value of weight\n",
    "K = math.ceil(np.log2(w_max)) # number of bits for each weight\n",
    "\n",
    "N = n*K\n",
    "print('Numer of binary variables: N = n*K = {}'.format(N))\n",
    "\n",
    "B = get_matrix_B(K,n)\n",
    "p_re = 10**(-4)\n",
    "p_ri = 1\n",
    "p_i = 1\n",
    "Q_w = get_matrix_Q_w(n, p_ri, p_i, Cov_M)\n",
    "Q_x = get_matrix_Q_x(K, n, p_re, p_i, I, r_fin)\n",
    "\n",
    "Q = B.T @ Q_w @ B + Q_x"
   ]
  },
  {
   "cell_type": "code",
   "execution_count": 9,
   "id": "e9df69cc-90a9-4ac2-b4db-24111fdcb915",
   "metadata": {},
   "outputs": [
    {
     "data": {
      "text/plain": [
       "array([[-1.99999993e+06,  2.01820903e+00,  4.03641805e+00, ...,\n",
       "         2.14693770e+09,  4.29387539e+09,  8.58775079e+09],\n",
       "       [ 2.01820903e+00, -3.99999785e+06,  8.07283610e+00, ...,\n",
       "         4.29387539e+09,  8.58775079e+09,  1.71755016e+10],\n",
       "       [ 4.03641805e+00,  8.07283610e+00, -7.99998763e+06, ...,\n",
       "         8.58775079e+09,  1.71755016e+10,  3.43510031e+10],\n",
       "       ...,\n",
       "       [ 2.14693770e+09,  4.29387539e+09,  8.58775079e+09, ...,\n",
       "         4.60813945e+18,  9.22486883e+18,  1.84497377e+19],\n",
       "       [ 4.29387539e+09,  8.58775079e+09,  1.71755016e+10, ...,\n",
       "         9.22486883e+18,  1.84411477e+19,  3.68994753e+19],\n",
       "       [ 8.58775079e+09,  1.71755016e+10,  3.43510031e+10, ...,\n",
       "         1.84497377e+19,  3.68994753e+19,  7.37817707e+19]])"
      ]
     },
     "execution_count": 9,
     "metadata": {},
     "output_type": "execute_result"
    }
   ],
   "source": [
    "Q"
   ]
  },
  {
   "cell_type": "code",
   "execution_count": 19,
   "id": "42822c25-cfd7-47d4-9d20-d7c62f203142",
   "metadata": {},
   "outputs": [
    {
     "data": {
      "text/plain": [
       "array([[-1.99999993e+06,  2.01820903e+00,  4.03641805e+00, ...,\n",
       "         2.14693770e+09,  4.29387539e+09,  8.58775079e+09],\n",
       "       [ 2.01820903e+00, -3.99999785e+06,  8.07283610e+00, ...,\n",
       "         4.29387539e+09,  8.58775079e+09,  1.71755016e+10],\n",
       "       [ 4.03641805e+00,  8.07283610e+00, -7.99998763e+06, ...,\n",
       "         8.58775079e+09,  1.71755016e+10,  3.43510031e+10],\n",
       "       ...,\n",
       "       [ 2.14693770e+09,  4.29387539e+09,  8.58775079e+09, ...,\n",
       "         4.60813945e+18,  9.22486883e+18,  1.84497377e+19],\n",
       "       [ 4.29387539e+09,  8.58775079e+09,  1.71755016e+10, ...,\n",
       "         9.22486883e+18,  1.84411477e+19,  3.68994753e+19],\n",
       "       [ 8.58775079e+09,  1.71755016e+10,  3.43510031e+10, ...,\n",
       "         1.84497377e+19,  3.68994753e+19,  7.37817707e+19]])"
      ]
     },
     "execution_count": 19,
     "metadata": {},
     "output_type": "execute_result"
    }
   ],
   "source": [
    "Q"
   ]
  },
  {
   "cell_type": "code",
   "execution_count": 18,
   "id": "b3d7d29b-53e9-42f9-ab93-1502e78cb678",
   "metadata": {},
   "outputs": [
    {
     "data": {
      "text/plain": [
       "-997640372224.0"
      ]
     },
     "execution_count": 18,
     "metadata": {},
     "output_type": "execute_result"
    }
   ],
   "source": [
    "np.min(Q)"
   ]
  },
  {
   "cell_type": "code",
   "execution_count": 21,
   "id": "d5607953-8fb9-4bcd-b004-54e72d4829ab",
   "metadata": {},
   "outputs": [
    {
     "name": "stderr",
     "output_type": "stream",
     "text": [
      "/tmp/ipykernel_26525/3746261168.py:1: RuntimeWarning: invalid value encountered in log\n",
      "  plt.imshow(np.log(Q+2*np.min(Q)))\n"
     ]
    },
    {
     "data": {
      "text/plain": [
       "<matplotlib.image.AxesImage at 0x739ce0059030>"
      ]
     },
     "execution_count": 21,
     "metadata": {},
     "output_type": "execute_result"
    },
    {
     "data": {
      "image/png": "[encoded data removed]",
      "text/plain": [
       "<Figure size 640x480 with 1 Axes>"
      ]
     },
     "metadata": {},
     "output_type": "display_data"
    }
   ],
   "source": [
    "plt.imshow(np.log(abs(Q)+2*np.min(Q)))"
   ]
  },
  {
   "cell_type": "code",
   "execution_count": null,
   "id": "aa204ddc-958a-47ac-a6a4-c85fa5d18cf2",
   "metadata": {},
   "outputs": [],
   "source": []
  }
 ],
 "metadata": {
  "kernelspec": {
   "display_name": "Python 3 (ipykernel)",
   "language": "python",
   "name": "python3"
  },
  "language_info": {
   "codemirror_mode": {
    "name": "ipython",
    "version": 3
   },
   "file_extension": ".py",
   "mimetype": "text/x-python",
   "name": "python",
   "nbconvert_exporter": "python",
   "pygments_lexer": "ipython3",
   "version": "3.10.12"
  }
 },
 "nbformat": 4,
 "nbformat_minor": 5
}
