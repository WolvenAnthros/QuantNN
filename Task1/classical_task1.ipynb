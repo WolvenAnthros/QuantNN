{
 "cells": [
  {
   "cell_type": "code",
   "execution_count": 1,
   "id": "a913b959-908c-40c6-9d6b-ee35c1fcd208",
   "metadata": {},
   "outputs": [],
   "source": [
    "import pandas as pd\n",
    "import numpy as np\n",
    "import matplotlib.pyplot as plt\n",
    "import math\n",
    "from scipy.optimize import minimize\n",
    "\n",
    "\n",
    "def get_cost_func(x, p_re, p_ri, p_i, Cov_M, r_fin, sigma_target, I):\n",
    "    \"\"\"\n",
    "    p_re, p_ri, p_i = penalties\n",
    "    x - weights (0<= x_i <=1)\n",
    "    cov_M - covariance matrix of returns for assets\n",
    "    r_fin - finial returns\n",
    "    sigma_target - target risk\n",
    "    I - initial money\n",
    "    \n",
    "    \"\"\"\n",
    "    H_return = -p_re*np.dot(x,r_fin)\n",
    "    H_risk = p_ri*(np.dot(x,Cov_M@x)-sigma_target**2)**2\n",
    "    H_init = p_i*(np.sum(abs(x)) - 1)**2\n",
    "    return H_return + H_risk + H_init"
   ]
  },
  {
   "cell_type": "code",
   "execution_count": 2,
   "id": "e517bcf8-7a60-4e7c-8880-48d75551984a",
   "metadata": {},
   "outputs": [
    {
     "data": {
      "text/plain": [
       "22643.14459642022"
      ]
     },
     "execution_count": 2,
     "metadata": {},
     "output_type": "execute_result"
    }
   ],
   "source": [
    "np.random.seed(1)\n",
    "\n",
    "\"\"\" Read data \"\"\" \n",
    "data_df = pd.read_csv('task-1-stocks.csv')   # column Sj - stock №j, row k - price at period k\n",
    "data_np = data_df.to_numpy()\n",
    "\n",
    "\"\"\" Construct covariance matrix and finial return vector \"\"\" \n",
    "return_matrix = (data_np[1:,:] - data_np[:-1,:])/data_np[:-1,:]\n",
    "return_matrix = return_matrix.T # we want that row is returns of asset j\n",
    "Cov_M = np.cov(return_matrix, bias=False) # if bias=False (default), then normalization is by (N-1)\n",
    "r_fin = (data_np[-1,:] - data_np[0,:])/data_np[0,:] # finial return vector\n",
    "\n",
    "\n",
    "n = data_np.shape[1] # number of assets \n",
    "I = 10**6 # initial money\n",
    "sigma_target = 0.2\n",
    "\n",
    "x_0 = np.random.rand(n)\n",
    "p_re, p_ri, p_i = [1,1,10]\n",
    "\n",
    "get_cost_func(x_0, p_re, p_ri, p_i, Cov_M, r_fin, sigma_target, I)"
   ]
  },
  {
   "cell_type": "code",
   "execution_count": 3,
   "id": "0ec61c19-0964-4ccd-bb43-e413494794d5",
   "metadata": {},
   "outputs": [
    {
     "name": "stdout",
     "output_type": "stream",
     "text": [
      "-1.2170262363674949 1.0471395092706348\n"
     ]
    }
   ],
   "source": [
    "bnds = [(0, 1) for i in range(n)]\n",
    "res = minimize(get_cost_func, x_0, bounds=bnds, args = (p_re, p_ri, p_i, Cov_M, r_fin, sigma_target, I), method='SLSQP', tol=1e-6)\n",
    "\n",
    "w = res.x\n",
    "print(res.fun, np.sum(w))"
   ]
  },
  {
   "cell_type": "code",
   "execution_count": 4,
   "id": "86069edf-c8d5-48c4-afe7-41538f7a6dd4",
   "metadata": {},
   "outputs": [
    {
     "name": "stdout",
     "output_type": "stream",
     "text": [
      "Spent money:  999994.4609887822\n",
      "Resulted risk:  0.19903564156429254\n",
      "Finial return:  0.9465337499857364\n"
     ]
    }
   ],
   "source": [
    "A = I/np.dot(w,data_np[0])\n",
    "a_list = w*A\n",
    "a_list = np.array([int(a) for a in a_list])\n",
    "\n",
    "print('Spent money: ', np.dot(a_list,data_np[0]))\n",
    "print('Resulted risk: ', np.sqrt(np.dot(w,Cov_M@w)))\n",
    "print('Finial return: ', (np.dot(a_list,data_np[-1]) - np.dot(a_list,data_np[0]))/np.dot(a_list,data_np[0]))"
   ]
  },
  {
   "cell_type": "code",
   "execution_count": 5,
   "id": "3bbd84b4-06b9-4270-9e3f-92c1d3a4af3d",
   "metadata": {},
   "outputs": [
    {
     "data": {
      "text/plain": [
       "array([  90967,       0,       0,       0,       0,       0,       0,\n",
       "             0,       0,       0,       0,       0,       0, 1929750,\n",
       "             0,       0,       0,       0,       0,       0,       0,\n",
       "             0,       0,       0,       0,       0,       0,       0,\n",
       "             0,       0,       0,       0,       0,       0,       0,\n",
       "             0,       0,       0,       0,       0,       0,       0,\n",
       "             0,       0,       0,       0,       0,       0,       0,\n",
       "             0,       0,       0,       0,       0,       0,       0,\n",
       "             0,       0,       0,       0,       0,       0,       0,\n",
       "             0,       0,       0,       0,       0,       0,       0,\n",
       "             0,       0,       0,       0,       0,       0,       0,\n",
       "             0,       0,       0,       0,       0,       0,       0,\n",
       "             0,       0,       0,       0,       0,       0,       0,\n",
       "             0,       0,       0,       0,       0,       0,       0,\n",
       "             0,       0])"
      ]
     },
     "execution_count": 5,
     "metadata": {},
     "output_type": "execute_result"
    }
   ],
   "source": [
    "a_list"
   ]
  },
  {
   "cell_type": "code",
   "execution_count": null,
   "id": "756c4c2f-1f9f-4791-b904-cee253f752db",
   "metadata": {},
   "outputs": [],
   "source": []
  }
 ],
 "metadata": {
  "kernelspec": {
   "display_name": "Python 3 (ipykernel)",
   "language": "python",
   "name": "python3"
  },
  "language_info": {
   "codemirror_mode": {
    "name": "ipython",
    "version": 3
   },
   "file_extension": ".py",
   "mimetype": "text/x-python",
   "name": "python",
   "nbconvert_exporter": "python",
   "pygments_lexer": "ipython3",
   "version": "3.10.12"
  }
 },
 "nbformat": 4,
 "nbformat_minor": 5
}
