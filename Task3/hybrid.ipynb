{
 "cells": [
  {
   "cell_type": "code",
   "execution_count": 9,
   "id": "initial_id",
   "metadata": {
    "collapsed": true,
    "ExecuteTime": {
     "end_time": "2024-11-15T07:10:01.073790268Z",
     "start_time": "2024-11-15T07:10:00.763525480Z"
    }
   },
   "outputs": [
    {
     "name": "stderr",
     "output_type": "stream",
     "text": [
      "/home/VF/anaconda3/envs/hybridquantum/lib/python3.12/site-packages/transformers/tokenization_utils_base.py:1601: FutureWarning: `clean_up_tokenization_spaces` was not set. It will be set to `True` by default. This behavior will be depracted in transformers v4.45, and will be then set to `False` by default. For more details check this issue: https://github.com/huggingface/transformers/issues/31884\n",
      "  warnings.warn(\n"
     ]
    }
   ],
   "source": [
    "import pandas as pd\n",
    "from torch.utils.data import Dataset, DataLoader\n",
    "from transformers import BertTokenizer\n",
    "import torch\n",
    "import torch.nn as nn\n",
    "import torch.optim as optim\n",
    "import numpy as np\n",
    "from sklearn.metrics import accuracy_score, precision_recall_fscore_support\n",
    "import pennylane as qml\n",
    "import matplotlib.pyplot as plt\n",
    "\n",
    "# Load the dataset\n",
    "df = pd.read_csv('task-3-dataset.csv', header=0, quotechar='\"', skipinitialspace=True, encoding='utf-8')\n",
    "\n",
    "# Initialize the BERT tokenizer\n",
    "tokenizer = BertTokenizer.from_pretrained('bert-base-uncased')\n",
    "\n",
    "class ReviewDataset(Dataset):\n",
    "    def __init__(self, dataframe, max_len):\n",
    "        self.dataframe = dataframe\n",
    "        self.tokenizer = tokenizer\n",
    "        self.max_len = max_len\n",
    "\n",
    "    def __len__(self):\n",
    "        return len(self.dataframe)\n",
    "\n",
    "    def __getitem__(self, idx):\n",
    "        review = self.dataframe.iloc[idx, 0]  # Extract the review text\n",
    "        label = 1 if self.dataframe.iloc[idx, 1] == '+' else 0  # Extract the label\n",
    "        encoding = self.tokenizer(review, padding='max_length', truncation=True, max_length=self.max_len, return_tensors='pt')\n",
    "        return {\n",
    "            'input_ids': encoding['input_ids'].flatten(),\n",
    "            'attention_mask': encoding['attention_mask'].flatten(),\n",
    "            'labels': torch.tensor(label, dtype=torch.long)\n",
    "        }\n",
    "\n",
    "# Define the quantum node\n",
    "n_qubits = 4\n",
    "dev = qml.device(\"default.qubit\", wires=n_qubits)\n",
    "\n",
    "@qml.qnode(dev)\n",
    "def qnode(inputs,weights): # weights_1_layer, weights_2_layer):\n",
    "    # print(inputs)\n",
    "    qml.AngleEmbedding(inputs, wires=range(n_qubits))\n",
    "    # ZZFeatureMap(inputs=inputs, wires=range(n_qubits))\n",
    "    qml.StronglyEntanglingLayers(weights=weights, wires=range(n_qubits))\n",
    "    return [qml.expval(qml.PauliZ(wires=i)) for i in range(n_qubits)]\n",
    "\n",
    "num_layers = 8\n",
    "weight_shapes = {\n",
    "    \"weights\": (num_layers,n_qubits,3)\n",
    "}\n",
    "\n",
    "# Initialize the parameters\n",
    "np.random.seed(42)\n",
    "qlayer = qml.qnn.TorchLayer(qnode, weight_shapes)\n",
    "\n",
    "# class QuantumNetwork(nn.Module):\n",
    "#     def __init__(self):\n",
    "#         super().__init__()\n",
    "#         self.input_fc = nn.Linear(in_features=max_token_length, out_features=30)\n",
    "#         self.fc1 = nn.Linear(in_features=30, out_features=n_qubits)\n",
    "#         self.qlayer = qlayer\n",
    "#         self.output_fc = nn.Linear(in_features=n_qubits, out_features=1)\n",
    "#         self.sigmoid = nn.Sigmoid()\n",
    "# \n",
    "#     def forward(self, input_ids, labels=None):\n",
    "#         x = self.input_fc(input_ids)\n",
    "#         x = torch.relu(x)\n",
    "#         x = self.fc1(x)\n",
    "#         x = self.qlayer(x)\n",
    "#         x = self.output_fc(x)\n",
    "#         x = self.sigmoid(x)\n",
    "#         return x\n",
    "\n",
    "\n",
    "\n",
    "# Tokenize the texts\n",
    "max_token_length = 100\n",
    "\n",
    "dataset = ReviewDataset(dataframe=df, max_len=max_token_length)\n",
    "dataloader = DataLoader(dataset, batch_size=100, shuffle=True)\n",
    "device = torch.device('cuda' if torch.cuda.is_available() else 'cpu')\n",
    "\n",
    "clayer1 = nn.Linear(in_features=max_token_length, out_features=30)\n",
    "sigm1 = nn.Sigmoid()\n",
    "clayer2 = nn.Linear(in_features=30, out_features=n_qubits)\n",
    "outclayer = nn.Linear(in_features=n_qubits, out_features=1)\n",
    "sigmoid = nn.Sigmoid()\n",
    "model = nn.Sequential(clayer1,sigm1,clayer2,qlayer,outclayer,sigmoid)\n",
    "\n",
    "# model = QuantumNetwork()\n",
    "model.to(device)\n",
    "optimizer = torch.optim.AdamW(model.parameters(), lr=0.1)\n",
    "scheduler = torch.optim.lr_scheduler.StepLR(optimizer, step_size=1, gamma=0.9)"
   ]
  },
  {
   "cell_type": "code",
   "execution_count": 10,
   "outputs": [
    {
     "name": "stdout",
     "output_type": "stream",
     "text": [
      "torch.Size([30, 100])\n",
      "torch.Size([30])\n",
      "torch.Size([4, 30])\n",
      "torch.Size([4])\n",
      "torch.Size([8, 4, 3])\n",
      "torch.Size([1, 4])\n",
      "torch.Size([1])\n"
     ]
    }
   ],
   "source": [
    "for param in model.parameters():\n",
    "    print(param.shape)"
   ],
   "metadata": {
    "collapsed": false,
    "ExecuteTime": {
     "end_time": "2024-11-15T07:10:01.509346678Z",
     "start_time": "2024-11-15T07:10:01.506376278Z"
    }
   },
   "id": "426e57bb4ba414fd"
  },
  {
   "cell_type": "code",
   "execution_count": 14,
   "outputs": [
    {
     "name": "stdout",
     "output_type": "stream",
     "text": [
      "Epoch 1/100, Loss: 0.5422, Accuracy: 0.7714\n",
      "Epoch 2/100, Loss: 0.5561, Accuracy: 0.7429\n",
      "Epoch 3/100, Loss: 0.5143, Accuracy: 0.7095\n",
      "Epoch 4/100, Loss: 0.5661, Accuracy: 0.7095\n",
      "Epoch 5/100, Loss: 0.4594, Accuracy: 0.7238\n",
      "Epoch 6/100, Loss: 0.4424, Accuracy: 0.7857\n",
      "Epoch 7/100, Loss: 0.4480, Accuracy: 0.7571\n",
      "Epoch 8/100, Loss: 0.4095, Accuracy: 0.7952\n",
      "Epoch 9/100, Loss: 0.4287, Accuracy: 0.7619\n",
      "Epoch 10/100, Loss: 0.4924, Accuracy: 0.7857\n",
      "Epoch 11/100, Loss: 0.4782, Accuracy: 0.7286\n",
      "Epoch 12/100, Loss: 0.4947, Accuracy: 0.7048\n",
      "Epoch 13/100, Loss: 0.4661, Accuracy: 0.7714\n",
      "Epoch 14/100, Loss: 0.5948, Accuracy: 0.7333\n",
      "Epoch 15/100, Loss: 0.6184, Accuracy: 0.6762\n",
      "Epoch 16/100, Loss: 0.5374, Accuracy: 0.6714\n",
      "Epoch 17/100, Loss: 0.5783, Accuracy: 0.6381\n",
      "Epoch 18/100, Loss: 0.6197, Accuracy: 0.6571\n",
      "Epoch 19/100, Loss: 0.5674, Accuracy: 0.6524\n",
      "Epoch 20/100, Loss: 0.5594, Accuracy: 0.6571\n",
      "Epoch 21/100, Loss: 0.6042, Accuracy: 0.6667\n",
      "Epoch 22/100, Loss: 0.5950, Accuracy: 0.6857\n",
      "Epoch 23/100, Loss: 0.5774, Accuracy: 0.6381\n",
      "Epoch 24/100, Loss: 0.5234, Accuracy: 0.7048\n",
      "Epoch 25/100, Loss: 0.6036, Accuracy: 0.7095\n",
      "Epoch 26/100, Loss: 0.5290, Accuracy: 0.6476\n",
      "Epoch 27/100, Loss: 0.5033, Accuracy: 0.7143\n",
      "Epoch 28/100, Loss: 0.4324, Accuracy: 0.7190\n",
      "Epoch 29/100, Loss: 0.5635, Accuracy: 0.7190\n",
      "Epoch 30/100, Loss: 0.5989, Accuracy: 0.7333\n",
      "Epoch 31/100, Loss: 0.5247, Accuracy: 0.6762\n",
      "Epoch 32/100, Loss: 0.6825, Accuracy: 0.6095\n",
      "Epoch 33/100, Loss: 0.5958, Accuracy: 0.6952\n",
      "Epoch 34/100, Loss: 0.5518, Accuracy: 0.6667\n",
      "Epoch 35/100, Loss: 0.5670, Accuracy: 0.6762\n",
      "Epoch 36/100, Loss: 0.5115, Accuracy: 0.7095\n",
      "Epoch 37/100, Loss: 0.5031, Accuracy: 0.7143\n",
      "Epoch 38/100, Loss: 0.5459, Accuracy: 0.7000\n",
      "Epoch 39/100, Loss: 0.5252, Accuracy: 0.7190\n",
      "Epoch 40/100, Loss: 0.6232, Accuracy: 0.6238\n",
      "Epoch 41/100, Loss: 0.5259, Accuracy: 0.6952\n",
      "Epoch 42/100, Loss: 0.5444, Accuracy: 0.6571\n",
      "Epoch 43/100, Loss: 0.6067, Accuracy: 0.6476\n",
      "Epoch 44/100, Loss: 0.6802, Accuracy: 0.6619\n",
      "Epoch 45/100, Loss: 0.5137, Accuracy: 0.7000\n",
      "Epoch 46/100, Loss: 0.5616, Accuracy: 0.7381\n",
      "Epoch 47/100, Loss: 0.4464, Accuracy: 0.7095\n",
      "Epoch 48/100, Loss: 0.4432, Accuracy: 0.7524\n",
      "Epoch 49/100, Loss: 0.5097, Accuracy: 0.7857\n",
      "Epoch 50/100, Loss: 0.4440, Accuracy: 0.7857\n",
      "Epoch 51/100, Loss: 0.3852, Accuracy: 0.7619\n",
      "Epoch 52/100, Loss: 0.4009, Accuracy: 0.7810\n",
      "Epoch 53/100, Loss: 0.5231, Accuracy: 0.7619\n",
      "Epoch 54/100, Loss: 0.6225, Accuracy: 0.7333\n",
      "Epoch 55/100, Loss: 0.4874, Accuracy: 0.6810\n",
      "Epoch 56/100, Loss: 0.5968, Accuracy: 0.7429\n",
      "Epoch 57/100, Loss: 0.5276, Accuracy: 0.7190\n",
      "Epoch 58/100, Loss: 0.4824, Accuracy: 0.7190\n",
      "Epoch 59/100, Loss: 0.5012, Accuracy: 0.7905\n",
      "Epoch 60/100, Loss: 0.7051, Accuracy: 0.5810\n",
      "Epoch 61/100, Loss: 0.5291, Accuracy: 0.6333\n",
      "Epoch 62/100, Loss: 0.5772, Accuracy: 0.6381\n",
      "Epoch 63/100, Loss: 0.6964, Accuracy: 0.6762\n",
      "Epoch 64/100, Loss: 0.5886, Accuracy: 0.7095\n",
      "Epoch 65/100, Loss: 0.6016, Accuracy: 0.6190\n",
      "Epoch 66/100, Loss: 0.6439, Accuracy: 0.6190\n",
      "Epoch 67/100, Loss: 0.5863, Accuracy: 0.6905\n",
      "Epoch 68/100, Loss: 0.5204, Accuracy: 0.6905\n",
      "Epoch 69/100, Loss: 0.5410, Accuracy: 0.6714\n",
      "Epoch 70/100, Loss: 0.6098, Accuracy: 0.6571\n",
      "Epoch 71/100, Loss: 0.6771, Accuracy: 0.6000\n",
      "Epoch 72/100, Loss: 0.5967, Accuracy: 0.6905\n",
      "Epoch 73/100, Loss: 0.4968, Accuracy: 0.7048\n",
      "Epoch 74/100, Loss: 0.6218, Accuracy: 0.7619\n",
      "Epoch 75/100, Loss: 0.4695, Accuracy: 0.7810\n",
      "Epoch 76/100, Loss: 0.4749, Accuracy: 0.7476\n",
      "Epoch 77/100, Loss: 0.5095, Accuracy: 0.6905\n",
      "Epoch 78/100, Loss: 0.4861, Accuracy: 0.7190\n",
      "Epoch 79/100, Loss: 0.4811, Accuracy: 0.7381\n",
      "Epoch 80/100, Loss: 0.5587, Accuracy: 0.7524\n",
      "Epoch 81/100, Loss: 0.5318, Accuracy: 0.7429\n",
      "Epoch 82/100, Loss: 0.4867, Accuracy: 0.6857\n",
      "Epoch 83/100, Loss: 0.5107, Accuracy: 0.7381\n",
      "Epoch 84/100, Loss: 0.5074, Accuracy: 0.7429\n",
      "Epoch 85/100, Loss: 0.5799, Accuracy: 0.7000\n",
      "Epoch 86/100, Loss: 0.5375, Accuracy: 0.7429\n",
      "Epoch 87/100, Loss: 0.4559, Accuracy: 0.7381\n",
      "Epoch 88/100, Loss: 0.4327, Accuracy: 0.7190\n",
      "Epoch 89/100, Loss: 0.4835, Accuracy: 0.7286\n",
      "Epoch 90/100, Loss: 0.5776, Accuracy: 0.7524\n",
      "Epoch 91/100, Loss: 0.4696, Accuracy: 0.7571\n",
      "Epoch 92/100, Loss: 0.5125, Accuracy: 0.7286\n",
      "Epoch 93/100, Loss: 0.5309, Accuracy: 0.7429\n",
      "Epoch 94/100, Loss: 0.4581, Accuracy: 0.7476\n",
      "Epoch 95/100, Loss: 0.5712, Accuracy: 0.7238\n",
      "Epoch 96/100, Loss: 0.4583, Accuracy: 0.7476\n",
      "Epoch 97/100, Loss: 0.5418, Accuracy: 0.7381\n",
      "Epoch 98/100, Loss: 0.5735, Accuracy: 0.7190\n",
      "Epoch 99/100, Loss: 0.4895, Accuracy: 0.7667\n",
      "Epoch 100/100, Loss: 0.4624, Accuracy: 0.7857\n"
     ]
    }
   ],
   "source": [
    "# optimizer = optim.Adam(model.parameters(), lr=2e-3)\n",
    "criterion = nn.BCELoss()\n",
    "epochs = 100\n",
    "\n",
    "# Training loop\n",
    "losses = []\n",
    "accuracies = []\n",
    "\n",
    "for epoch in range(epochs):\n",
    "    model.train()\n",
    "    running_loss = 0.0\n",
    "    correct_predictions = 0\n",
    "    total_predictions = 0\n",
    "\n",
    "    for batch in dataloader:\n",
    "\n",
    "        input_ids = batch['input_ids'].to(torch.float32)\n",
    "        input_ids = (input_ids - input_ids.mean()) / (input_ids.std())\n",
    "        attention_mask = batch['attention_mask'].to(torch.float32)\n",
    "        labels = batch['labels'].to(torch.float32).unsqueeze(-1)\n",
    "\n",
    "        optimizer.zero_grad()\n",
    "        outputs = model(input_ids)\n",
    "        loss = criterion(outputs,labels)\n",
    "        loss.backward()\n",
    "        optimizer.step()\n",
    "\n",
    "        running_loss += loss.item()\n",
    "        \n",
    "        correct_predictions += ((outputs>0.5).to(int) == labels).sum().item()\n",
    "        total_predictions += labels.size(0)\n",
    "\n",
    "    epoch_loss = running_loss / len(dataloader)\n",
    "    epoch_acc = correct_predictions / total_predictions\n",
    "    losses.append(epoch_loss)\n",
    "    accuracies.append(epoch_acc)\n",
    "\n",
    "    print(f'Epoch {epoch + 1}/{epochs}, Loss: {epoch_loss:.4f}, Accuracy: {epoch_acc:.4f}')"
   ],
   "metadata": {
    "collapsed": false,
    "ExecuteTime": {
     "end_time": "2024-11-15T07:12:16.015745143Z",
     "start_time": "2024-11-15T07:11:48.084394554Z"
    }
   },
   "id": "89ca57f3da592c91"
  },
  {
   "cell_type": "code",
   "execution_count": 96,
   "outputs": [
    {
     "data": {
      "text/plain": "<Figure size 1200x400 with 2 Axes>",
      "image/png": "[encoded data removed]"
     },
     "metadata": {},
     "output_type": "display_data"
    }
   ],
   "source": [
    "# Plot metrics\n",
    "plt.figure(figsize=(12, 4))\n",
    "plt.subplot(1, 2, 1)\n",
    "plt.plot(losses, label='Training Loss')\n",
    "plt.xlabel('Epoch')\n",
    "plt.ylabel('Loss')\n",
    "plt.legend()\n",
    "\n",
    "plt.subplot(1, 2, 2)\n",
    "plt.plot(accuracies, label='Training Accuracy')\n",
    "plt.xlabel('Epoch')\n",
    "plt.ylabel('Accuracy')\n",
    "plt.legend()\n",
    "\n",
    "plt.show()"
   ],
   "metadata": {
    "collapsed": false,
    "ExecuteTime": {
     "end_time": "2024-11-14T22:16:10.235804588Z",
     "start_time": "2024-11-14T22:16:10.052450447Z"
    }
   },
   "id": "b7d9e3306f133cdd"
  },
  {
   "cell_type": "code",
   "execution_count": 15,
   "outputs": [
    {
     "name": "stdout",
     "output_type": "stream",
     "text": [
      "Epoch 100/100, Loss: 2.3407, Accuracy: 0.7308\n"
     ]
    }
   ],
   "source": [
    "df = pd.read_csv('test50.csv', header=0, quotechar='\"', skipinitialspace=True, encoding='utf-8')\n",
    "dataset = ReviewDataset(dataframe=df, max_len=max_token_length)\n",
    "dataloader = DataLoader(dataset, batch_size=100, shuffle=True)\n",
    "\n",
    "for batch in dataloader:\n",
    "    \n",
    "    input_ids = batch['input_ids'].to(torch.float32)\n",
    "    input_ids = (input_ids - input_ids.mean()) / (input_ids.std())\n",
    "    attention_mask = batch['attention_mask'].to(torch.float32)\n",
    "    labels = batch['labels'].to(torch.float32).unsqueeze(-1)\n",
    "    \n",
    "    optimizer.zero_grad()\n",
    "    outputs = model(input_ids)\n",
    "    loss = criterion(outputs,labels)\n",
    "    loss.backward()\n",
    "    optimizer.step()\n",
    "    \n",
    "    running_loss += loss.item()\n",
    "    \n",
    "    correct_predictions += ((outputs>0.5).to(int) == labels).sum().item()\n",
    "    total_predictions += labels.size(0)\n",
    "    \n",
    "    epoch_loss = running_loss / len(dataloader)\n",
    "    epoch_acc = correct_predictions / total_predictions\n",
    "    losses.append(epoch_loss)\n",
    "    accuracies.append(epoch_acc)\n",
    "\n",
    "print(f'Epoch {epoch + 1}/{epochs}, Loss: {epoch_loss:.4f}, Accuracy: {epoch_acc:.4f}')"
   ],
   "metadata": {
    "collapsed": false,
    "ExecuteTime": {
     "end_time": "2024-11-15T07:14:35.343159589Z",
     "start_time": "2024-11-15T07:14:35.219213602Z"
    }
   },
   "id": "4776eaf63042e288"
  },
  {
   "cell_type": "code",
   "execution_count": null,
   "outputs": [],
   "source": [],
   "metadata": {
    "collapsed": false
   },
   "id": "3ece66b9e913dfc"
  }
 ],
 "metadata": {
  "kernelspec": {
   "display_name": "Python 3",
   "language": "python",
   "name": "python3"
  },
  "language_info": {
   "codemirror_mode": {
    "name": "ipython",
    "version": 2
   },
   "file_extension": ".py",
   "mimetype": "text/x-python",
   "name": "python",
   "nbconvert_exporter": "python",
   "pygments_lexer": "ipython2",
   "version": "2.7.6"
  }
 },
 "nbformat": 4,
 "nbformat_minor": 5
}
