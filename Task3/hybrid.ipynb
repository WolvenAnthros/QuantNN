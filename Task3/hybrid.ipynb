{
 "cells": [
  {
   "cell_type": "code",
   "execution_count": 55,
   "id": "initial_id",
   "metadata": {
    "collapsed": true,
    "ExecuteTime": {
     "end_time": "2024-11-15T07:31:28.496586925Z",
     "start_time": "2024-11-15T07:31:28.239855761Z"
    }
   },
   "outputs": [
    {
     "name": "stderr",
     "output_type": "stream",
     "text": [
      "/home/VF/anaconda3/envs/hybridquantum/lib/python3.12/site-packages/transformers/tokenization_utils_base.py:1601: FutureWarning: `clean_up_tokenization_spaces` was not set. It will be set to `True` by default. This behavior will be depracted in transformers v4.45, and will be then set to `False` by default. For more details check this issue: https://github.com/huggingface/transformers/issues/31884\n",
      "  warnings.warn(\n"
     ]
    }
   ],
   "source": [
    "import pandas as pd\n",
    "from torch.utils.data import Dataset, DataLoader\n",
    "from transformers import BertTokenizer\n",
    "import torch\n",
    "import torch.nn as nn\n",
    "import torch.optim as optim\n",
    "import numpy as np\n",
    "from sklearn.metrics import accuracy_score, precision_recall_fscore_support\n",
    "import pennylane as qml\n",
    "import matplotlib.pyplot as plt\n",
    "\n",
    "# Load the dataset\n",
    "df = pd.read_csv('task-3-dataset.csv', header=0, quotechar='\"', skipinitialspace=True, encoding='utf-8')\n",
    "\n",
    "# Initialize the BERT tokenizer\n",
    "tokenizer = BertTokenizer.from_pretrained('bert-base-uncased')\n",
    "\n",
    "class ReviewDataset(Dataset):\n",
    "    def __init__(self, dataframe, max_len):\n",
    "        self.dataframe = dataframe\n",
    "        self.tokenizer = tokenizer\n",
    "        self.max_len = max_len\n",
    "\n",
    "    def __len__(self):\n",
    "        return len(self.dataframe)\n",
    "\n",
    "    def __getitem__(self, idx):\n",
    "        review = self.dataframe.iloc[idx, 0]  # Extract the review text\n",
    "        label = 1 if self.dataframe.iloc[idx, 1] == '+' else 0  # Extract the label\n",
    "        encoding = self.tokenizer(review, padding='max_length', truncation=True, max_length=self.max_len, return_tensors='pt')\n",
    "        return {\n",
    "            'input_ids': encoding['input_ids'].flatten(),\n",
    "            'attention_mask': encoding['attention_mask'].flatten(),\n",
    "            'labels': torch.tensor(label, dtype=torch.long)\n",
    "        }\n",
    "\n",
    "# Define the quantum node\n",
    "n_qubits = 4\n",
    "dev = qml.device(\"default.qubit\", wires=n_qubits)\n",
    "\n",
    "@qml.qnode(dev)\n",
    "def qnode(inputs,weights): # weights_1_layer, weights_2_layer):\n",
    "    # print(inputs)\n",
    "    qml.AngleEmbedding(inputs, wires=range(n_qubits))\n",
    "    # ZZFeatureMap(inputs=inputs, wires=range(n_qubits))\n",
    "    qml.StronglyEntanglingLayers(weights=weights, wires=range(n_qubits))\n",
    "    return [qml.expval(qml.PauliZ(wires=i)) for i in range(n_qubits)]\n",
    "\n",
    "num_layers = 8\n",
    "weight_shapes = {\n",
    "    \"weights\": (num_layers,n_qubits,3)\n",
    "}\n",
    "\n",
    "# Initialize the parameters\n",
    "np.random.seed(42)\n",
    "qlayer = qml.qnn.TorchLayer(qnode, weight_shapes)\n",
    "\n",
    "# class QuantumNetwork(nn.Module):\n",
    "#     def __init__(self):\n",
    "#         super().__init__()\n",
    "#         self.input_fc = nn.Linear(in_features=max_token_length, out_features=30)\n",
    "#         self.fc1 = nn.Linear(in_features=30, out_features=n_qubits)\n",
    "#         self.qlayer = qlayer\n",
    "#         self.output_fc = nn.Linear(in_features=n_qubits, out_features=1)\n",
    "#         self.sigmoid = nn.Sigmoid()\n",
    "# \n",
    "#     def forward(self, input_ids, labels=None):\n",
    "#         x = self.input_fc(input_ids)\n",
    "#         x = torch.relu(x)\n",
    "#         x = self.fc1(x)\n",
    "#         x = self.qlayer(x)\n",
    "#         x = self.output_fc(x)\n",
    "#         x = self.sigmoid(x)\n",
    "#         return x\n",
    "\n",
    "\n",
    "\n",
    "# Tokenize the texts\n",
    "max_token_length = 100\n",
    "\n",
    "dataset = ReviewDataset(dataframe=df, max_len=max_token_length)\n",
    "dataloader = DataLoader(dataset, batch_size=100, shuffle=True)\n",
    "device = torch.device('cuda' if torch.cuda.is_available() else 'cpu')\n",
    "\n",
    "clayer1 = nn.Linear(in_features=max_token_length, out_features=30)\n",
    "sigm1 = nn.Sigmoid()\n",
    "clayer2 = nn.Linear(in_features=30, out_features=n_qubits)\n",
    "outclayer = nn.Linear(in_features=n_qubits, out_features=1)\n",
    "sigmoid = nn.Sigmoid()\n",
    "model = nn.Sequential(clayer1,sigm1,clayer2,qlayer,outclayer,sigmoid)\n",
    "\n",
    "# model = QuantumNetwork()\n",
    "model.to(device)\n",
    "optimizer = torch.optim.AdamW(model.parameters(), lr=0.01)\n",
    "scheduler = torch.optim.lr_scheduler.StepLR(optimizer, step_size=1, gamma=0.9)"
   ]
  },
  {
   "cell_type": "code",
   "execution_count": 56,
   "outputs": [
    {
     "name": "stdout",
     "output_type": "stream",
     "text": [
      "torch.Size([30, 100])\n",
      "torch.Size([30])\n",
      "torch.Size([4, 30])\n",
      "torch.Size([4])\n",
      "torch.Size([8, 4, 3])\n",
      "torch.Size([1, 4])\n",
      "torch.Size([1])\n"
     ]
    }
   ],
   "source": [
    "for param in model.parameters():\n",
    "    print(param.shape)"
   ],
   "metadata": {
    "collapsed": false,
    "ExecuteTime": {
     "end_time": "2024-11-15T07:31:31.716771543Z",
     "start_time": "2024-11-15T07:31:31.713703974Z"
    }
   },
   "id": "426e57bb4ba414fd"
  },
  {
   "cell_type": "code",
   "execution_count": 57,
   "outputs": [
    {
     "name": "stdout",
     "output_type": "stream",
     "text": [
      "Epoch 1/30, Loss: 0.7008, Accuracy: 0.4286\n",
      "Epoch 2/30, Loss: 0.6992, Accuracy: 0.4810\n",
      "Epoch 3/30, Loss: 0.6855, Accuracy: 0.5762\n",
      "Epoch 4/30, Loss: 0.6872, Accuracy: 0.5762\n",
      "Epoch 5/30, Loss: 0.6873, Accuracy: 0.5762\n",
      "Epoch 6/30, Loss: 0.6764, Accuracy: 0.5762\n",
      "Epoch 7/30, Loss: 0.6736, Accuracy: 0.5762\n",
      "Epoch 8/30, Loss: 0.6388, Accuracy: 0.5762\n",
      "Epoch 9/30, Loss: 0.6471, Accuracy: 0.5762\n",
      "Epoch 10/30, Loss: 0.6641, Accuracy: 0.5952\n",
      "Epoch 11/30, Loss: 0.6540, Accuracy: 0.6238\n",
      "Epoch 12/30, Loss: 0.6228, Accuracy: 0.7238\n",
      "Epoch 13/30, Loss: 0.6072, Accuracy: 0.7476\n",
      "Epoch 14/30, Loss: 0.5786, Accuracy: 0.7524\n",
      "Epoch 15/30, Loss: 0.5639, Accuracy: 0.7476\n",
      "Epoch 16/30, Loss: 0.5453, Accuracy: 0.7952\n",
      "Epoch 17/30, Loss: 0.5481, Accuracy: 0.8048\n",
      "Epoch 18/30, Loss: 0.5156, Accuracy: 0.8095\n",
      "Epoch 19/30, Loss: 0.5149, Accuracy: 0.8143\n",
      "Epoch 20/30, Loss: 0.4621, Accuracy: 0.8190\n",
      "Epoch 21/30, Loss: 0.4431, Accuracy: 0.8429\n",
      "Epoch 22/30, Loss: 0.4226, Accuracy: 0.8429\n",
      "Epoch 23/30, Loss: 0.4109, Accuracy: 0.8667\n",
      "Epoch 24/30, Loss: 0.3864, Accuracy: 0.8238\n",
      "Epoch 25/30, Loss: 0.4057, Accuracy: 0.8762\n",
      "Epoch 26/30, Loss: 0.4142, Accuracy: 0.8810\n",
      "Epoch 27/30, Loss: 0.3100, Accuracy: 0.9000\n",
      "Epoch 28/30, Loss: 0.3231, Accuracy: 0.8524\n",
      "Epoch 29/30, Loss: 0.2891, Accuracy: 0.8905\n",
      "Epoch 30/30, Loss: 0.2892, Accuracy: 0.8905\n"
     ]
    }
   ],
   "source": [
    "# optimizer = optim.Adam(model.parameters(), lr=2e-3)\n",
    "criterion = nn.BCELoss()\n",
    "epochs = 30\n",
    "\n",
    "# Training loop\n",
    "losses = []\n",
    "accuracies = []\n",
    "\n",
    "for epoch in range(epochs):\n",
    "    model.train()\n",
    "    running_loss = 0.0\n",
    "    correct_predictions = 0\n",
    "    total_predictions = 0\n",
    "\n",
    "    for batch in dataloader:\n",
    "\n",
    "        input_ids = batch['input_ids'].to(torch.float32)\n",
    "        input_ids = (input_ids - input_ids.mean()) / (input_ids.std())\n",
    "        attention_mask = batch['attention_mask'].to(torch.float32)\n",
    "        labels = batch['labels'].to(torch.float32).unsqueeze(-1)\n",
    "\n",
    "        optimizer.zero_grad()\n",
    "        outputs = model(input_ids)\n",
    "        loss = criterion(outputs,labels)\n",
    "        loss.backward()\n",
    "        optimizer.step()\n",
    "\n",
    "        running_loss += loss.item()\n",
    "        \n",
    "        correct_predictions += ((outputs>0.5).to(int) == labels).sum().item()\n",
    "        total_predictions += labels.size(0)\n",
    "\n",
    "    epoch_loss = running_loss / len(dataloader)\n",
    "    epoch_acc = correct_predictions / total_predictions\n",
    "    losses.append(epoch_loss)\n",
    "    accuracies.append(epoch_acc)\n",
    "\n",
    "    print(f'Epoch {epoch + 1}/{epochs}, Loss: {epoch_loss:.4f}, Accuracy: {epoch_acc:.4f}')"
   ],
   "metadata": {
    "collapsed": false,
    "ExecuteTime": {
     "end_time": "2024-11-15T07:31:47.015117129Z",
     "start_time": "2024-11-15T07:31:36.172622270Z"
    }
   },
   "id": "89ca57f3da592c91"
  },
  {
   "cell_type": "code",
   "execution_count": 58,
   "outputs": [
    {
     "data": {
      "text/plain": "<Figure size 1200x400 with 2 Axes>",
      "image/png": "[encoded data removed]"
     },
     "metadata": {},
     "output_type": "display_data"
    }
   ],
   "source": [
    "# Plot metrics\n",
    "plt.figure(figsize=(12, 4))\n",
    "plt.subplot(1, 2, 1)\n",
    "plt.plot(losses, label='Training Loss')\n",
    "plt.xlabel('Epoch')\n",
    "plt.ylabel('Loss')\n",
    "plt.legend()\n",
    "\n",
    "plt.subplot(1, 2, 2)\n",
    "plt.plot(accuracies, label='Training Accuracy')\n",
    "plt.xlabel('Epoch')\n",
    "plt.ylabel('Accuracy')\n",
    "plt.legend()\n",
    "\n",
    "plt.show()"
   ],
   "metadata": {
    "collapsed": false,
    "ExecuteTime": {
     "end_time": "2024-11-15T07:31:49.102395259Z",
     "start_time": "2024-11-15T07:31:48.895904049Z"
    }
   },
   "id": "b7d9e3306f133cdd"
  },
  {
   "cell_type": "code",
   "execution_count": 59,
   "outputs": [
    {
     "name": "stdout",
     "output_type": "stream",
     "text": [
      "Loss: 1.7485, Accuracy: 0.8115\n"
     ]
    }
   ],
   "source": [
    "df = pd.read_csv('test50.csv', header=0, quotechar='\"', skipinitialspace=True, encoding='utf-8')\n",
    "dataset = ReviewDataset(dataframe=df, max_len=max_token_length)\n",
    "dataloader = DataLoader(dataset, batch_size=100, shuffle=True)\n",
    "\n",
    "for batch in dataloader:\n",
    "    \n",
    "    input_ids = batch['input_ids'].to(torch.float32)\n",
    "    input_ids = (input_ids - input_ids.mean()) / (input_ids.std())\n",
    "    attention_mask = batch['attention_mask'].to(torch.float32)\n",
    "    labels = batch['labels'].to(torch.float32).unsqueeze(-1)\n",
    "    \n",
    "    # optimizer.zero_grad()\n",
    "    outputs = model(input_ids)\n",
    "    loss = criterion(outputs,labels)\n",
    "    # loss.backward()\n",
    "    # optimizer.step()\n",
    "    \n",
    "    running_loss += loss.item()\n",
    "    \n",
    "    correct_predictions += ((outputs>0.5).to(int) == labels).sum().item()\n",
    "    total_predictions += labels.size(0)\n",
    "    \n",
    "    epoch_loss = running_loss / len(dataloader)\n",
    "    epoch_acc = correct_predictions / total_predictions\n",
    "    losses.append(epoch_loss)\n",
    "    accuracies.append(epoch_acc)\n",
    "\n",
    "print(f'Loss: {epoch_loss:.4f}, Accuracy: {epoch_acc:.4f}')"
   ],
   "metadata": {
    "collapsed": false,
    "ExecuteTime": {
     "end_time": "2024-11-15T07:31:59.665786841Z",
     "start_time": "2024-11-15T07:31:59.570602643Z"
    }
   },
   "id": "4776eaf63042e288"
  },
  {
   "cell_type": "code",
   "execution_count": null,
   "outputs": [],
   "source": [],
   "metadata": {
    "collapsed": false
   },
   "id": "3ece66b9e913dfc"
  }
 ],
 "metadata": {
  "kernelspec": {
   "display_name": "Python 3",
   "language": "python",
   "name": "python3"
  },
  "language_info": {
   "codemirror_mode": {
    "name": "ipython",
    "version": 2
   },
   "file_extension": ".py",
   "mimetype": "text/x-python",
   "name": "python",
   "nbconvert_exporter": "python",
   "pygments_lexer": "ipython2",
   "version": "2.7.6"
  }
 },
 "nbformat": 4,
 "nbformat_minor": 5
}
